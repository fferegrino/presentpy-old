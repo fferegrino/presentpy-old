{
 "cells": [
  {
   "cell_type": "markdown",
   "id": "7de1a5ae",
   "metadata": {},
   "source": [
    "# PresentPy\n",
    "## Example notebook"
   ]
  },
  {
   "cell_type": "markdown",
   "id": "fa175728",
   "metadata": {},
   "source": [
    "## Basic functionality\n",
    "### what can I do?"
   ]
  },
  {
   "cell_type": "markdown",
   "id": "83a96acd",
   "metadata": {},
   "source": [
    "## I am a bullet point slide\n",
    "\n",
    " - Make your points clear\n",
    " - Use just a few\n",
    " - Too many points are boring\n",
    " - I would say maximum 4"
   ]
  },
  {
   "cell_type": "code",
   "execution_count": null,
   "id": "0f76891f",
   "metadata": {},
   "outputs": [],
   "source": [
    "# Solve the quadratic equation ax**2 + bx + c = 0\n",
    "\n",
    "# import complex math module\n",
    "import cmath\n",
    "\n",
    "a = 1\n",
    "b = 5\n",
    "c = 6\n",
    "\n",
    "# calculate the discriminant\n",
    "d = (b**2) - (4*a*c)\n",
    "\n",
    "# find two solutions\n",
    "sol1 = (-b-cmath.sqrt(d))/(2*a)\n",
    "sol2 = (-b+cmath.sqrt(d))/(2*a)\n",
    "\n",
    "print('The solution are {0} and {1}'.format(sol1,sol2))\n",
    "#%"
   ]
  }
 ],
 "metadata": {
  "kernelspec": {
   "display_name": "Python 3 (ipykernel)",
   "language": "python",
   "name": "python3"
  },
  "language_info": {
   "codemirror_mode": {
    "name": "ipython",
    "version": 3
   },
   "file_extension": ".py",
   "mimetype": "text/x-python",
   "name": "python",
   "nbconvert_exporter": "python",
   "pygments_lexer": "ipython3",
   "version": "3.8.8"
  }
 },
 "nbformat": 4,
 "nbformat_minor": 5
}
